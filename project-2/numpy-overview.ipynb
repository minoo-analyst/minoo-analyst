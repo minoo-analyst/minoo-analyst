{
 "cells": [
  {
   "cell_type": "markdown",
   "id": "3d3a76d7",
   "metadata": {},
   "source": [
    "<img src = \"images/np-title.jpg\">"
   ]
  },
  {
   "cell_type": "markdown",
   "id": "66cac191",
   "metadata": {},
   "source": [
    "[![Environment Setup Video](images/setup-video.jpg)](https://www.youtube.com/watch?v=XG44LZIgcuI \"Environment Setup Video\")"
   ]
  },
  {
   "cell_type": "markdown",
   "id": "7f22fbb5",
   "metadata": {},
   "source": [
    "# Numpy Library\n",
    "An open source Python library that is used extensively in Pandas, SciPy, Matplotlib, scikit-learn, scikit-image Python packages."
   ]
  },
  {
   "cell_type": "code",
   "execution_count": 1,
   "id": "9f7b8654",
   "metadata": {},
   "outputs": [
    {
     "data": {
      "text/plain": [
       "'1.20.1'"
      ]
     },
     "execution_count": 1,
     "metadata": {},
     "output_type": "execute_result"
    }
   ],
   "source": [
    "import numpy as np\n",
    "np.__version__"
   ]
  },
  {
   "cell_type": "markdown",
   "id": "00d2261d",
   "metadata": {},
   "source": [
    "## Numpy Arrays"
   ]
  },
  {
   "cell_type": "code",
   "execution_count": 2,
   "id": "5719693a",
   "metadata": {},
   "outputs": [
    {
     "data": {
      "text/plain": [
       "array([0, 1, 2, 3, 4, 5])"
      ]
     },
     "execution_count": 2,
     "metadata": {},
     "output_type": "execute_result"
    }
   ],
   "source": [
    "np.array([0, 1, 2, 3, 4, 5]) # function to create arrays"
   ]
  },
  {
   "cell_type": "code",
   "execution_count": 3,
   "id": "7530f117",
   "metadata": {},
   "outputs": [
    {
     "data": {
      "text/plain": [
       "array([0, 1, 2, 3, 4, 5])"
      ]
     },
     "execution_count": 3,
     "metadata": {},
     "output_type": "execute_result"
    }
   ],
   "source": [
    "arr = np.array([0, 1, 2, 3, 4, 5]) # input being a list of numbers\n",
    "arr # newly created array object with 6 elements"
   ]
  },
  {
   "cell_type": "code",
   "execution_count": 4,
   "id": "cfb238eb",
   "metadata": {},
   "outputs": [
    {
     "data": {
      "text/plain": [
       "array([0, 1, 2, 3, 4])"
      ]
     },
     "execution_count": 4,
     "metadata": {},
     "output_type": "execute_result"
    }
   ],
   "source": [
    "arr_2 = np.arange(5) # function creates an array with a range from 0 to 5 - 1 \n",
    "arr_2 # specified number is excluded"
   ]
  },
  {
   "cell_type": "code",
   "execution_count": 5,
   "id": "46ae4702",
   "metadata": {},
   "outputs": [
    {
     "data": {
      "text/plain": [
       "array([0, 2, 4, 6, 8])"
      ]
     },
     "execution_count": 5,
     "metadata": {},
     "output_type": "execute_result"
    }
   ],
   "source": [
    "arr_even = np.arange(0, 10, 2) # specify  first number, last number, and step size\n",
    "arr_even # specified last number is excluded"
   ]
  },
  {
   "cell_type": "code",
   "execution_count": 6,
   "id": "482d681a",
   "metadata": {},
   "outputs": [
    {
     "data": {
      "text/plain": [
       "array([1, 3, 5, 7, 9])"
      ]
     },
     "execution_count": 6,
     "metadata": {},
     "output_type": "execute_result"
    }
   ],
   "source": [
    "arr_odd = np.arange(1, 11, 2) # specify  first number, last number, and step size\n",
    "arr_odd # specified last number is excluded"
   ]
  },
  {
   "cell_type": "code",
   "execution_count": 7,
   "id": "018ab767",
   "metadata": {},
   "outputs": [
    {
     "data": {
      "text/plain": [
       "array([  0.,  25.,  50.,  75., 100.])"
      ]
     },
     "execution_count": 7,
     "metadata": {},
     "output_type": "execute_result"
    }
   ],
   "source": [
    "arr_interval = np.linspace(0, 100, num=5) # creates an array with values spaced equidistant in the specified interval\n",
    "arr_interval "
   ]
  },
  {
   "cell_type": "code",
   "execution_count": 8,
   "id": "4737f595",
   "metadata": {},
   "outputs": [
    {
     "data": {
      "text/plain": [
       "array([  0,  25,  50,  75, 100], dtype=int64)"
      ]
     },
     "execution_count": 8,
     "metadata": {},
     "output_type": "execute_result"
    }
   ],
   "source": [
    "arr_interval = np.linspace(0, 100, num=5, dtype=np.int64) # override default data type of np.float64\n",
    "arr_interval #"
   ]
  },
  {
   "cell_type": "code",
   "execution_count": 9,
   "id": "af506489",
   "metadata": {},
   "outputs": [
    {
     "data": {
      "text/plain": [
       "array([0., 0., 0., 0., 0., 0.])"
      ]
     },
     "execution_count": 9,
     "metadata": {},
     "output_type": "execute_result"
    }
   ],
   "source": [
    "arr_zero = np.zeros(6) # function creates an array with all 6 elements as 0s.\n",
    "arr_zero # default values are of data type floating point"
   ]
  },
  {
   "cell_type": "code",
   "execution_count": 10,
   "id": "c4e026d8",
   "metadata": {},
   "outputs": [
    {
     "data": {
      "text/plain": [
       "array([0, 0, 0, 0, 0, 0], dtype=int64)"
      ]
     },
     "execution_count": 10,
     "metadata": {},
     "output_type": "execute_result"
    }
   ],
   "source": [
    "arr_0_ints = np.zeros(6, dtype = np.int64) # override default dtype of np.float64\n",
    "arr_0_ints"
   ]
  },
  {
   "cell_type": "code",
   "execution_count": 11,
   "id": "2bca124c",
   "metadata": {},
   "outputs": [
    {
     "data": {
      "text/plain": [
       "array([1., 1., 1., 1., 1.])"
      ]
     },
     "execution_count": 11,
     "metadata": {},
     "output_type": "execute_result"
    }
   ],
   "source": [
    "arr_one = np.ones(5) # function creates an array with all 5 elements as 1s.\n",
    "arr_one"
   ]
  },
  {
   "cell_type": "code",
   "execution_count": 12,
   "id": "50a6ae1b",
   "metadata": {},
   "outputs": [
    {
     "data": {
      "text/plain": [
       "array([1, 1, 1, 1, 1], dtype=int64)"
      ]
     },
     "execution_count": 12,
     "metadata": {},
     "output_type": "execute_result"
    }
   ],
   "source": [
    "arr_1_ints = np.ones(5, dtype = np.int64) # override default dtype of np.float64\n",
    "arr_1_ints"
   ]
  },
  {
   "cell_type": "code",
   "execution_count": 13,
   "id": "5ecdca1e",
   "metadata": {},
   "outputs": [
    {
     "data": {
      "text/plain": [
       "array([1.56054131e-311, 0.00000000e+000, 3.11524770e-307])"
      ]
     },
     "execution_count": 13,
     "metadata": {},
     "output_type": "execute_result"
    }
   ],
   "source": [
    "arr_dunno = np.empty(3) # function creates an array with all 3 elements as random values.\n",
    "arr_dunno"
   ]
  },
  {
   "cell_type": "code",
   "execution_count": 14,
   "id": "fe996316",
   "metadata": {},
   "outputs": [
    {
     "data": {
      "text/plain": [
       "array([0., 0., 0.])"
      ]
     },
     "execution_count": 14,
     "metadata": {},
     "output_type": "execute_result"
    }
   ],
   "source": [
    "np.round(arr_dunno, 2) # function to round a value to specified precision"
   ]
  },
  {
   "cell_type": "markdown",
   "id": "359d3683",
   "metadata": {},
   "source": [
    "## Multi-dimensional Arrays"
   ]
  },
  {
   "cell_type": "code",
   "execution_count": 15,
   "id": "d1a652f7",
   "metadata": {},
   "outputs": [
    {
     "data": {
      "text/plain": [
       "array([[ 1,  2,  3,  4],\n",
       "       [ 5,  6,  7,  8],\n",
       "       [ 9, 10, 11, 12]])"
      ]
     },
     "execution_count": 15,
     "metadata": {},
     "output_type": "execute_result"
    }
   ],
   "source": [
    "arr_2d = np.array([[1, 2, 3, 4], [5, 6, 7, 8], [9, 10, 11, 12]]) # creates a 2 dimensional array\n",
    "arr_2d # input was a list of 3 lists with 4 elements in each inner list"
   ]
  },
  {
   "cell_type": "code",
   "execution_count": 16,
   "id": "b901a396",
   "metadata": {},
   "outputs": [
    {
     "data": {
      "text/plain": [
       "2"
      ]
     },
     "execution_count": 16,
     "metadata": {},
     "output_type": "execute_result"
    }
   ],
   "source": [
    "arr_2d.ndim # property outputs number of dimensions of the array"
   ]
  },
  {
   "cell_type": "code",
   "execution_count": 17,
   "id": "dd79426e",
   "metadata": {},
   "outputs": [
    {
     "data": {
      "text/plain": [
       "(3, 4)"
      ]
     },
     "execution_count": 17,
     "metadata": {},
     "output_type": "execute_result"
    }
   ],
   "source": [
    "arr_2d.shape # property outputs the shape of the array"
   ]
  },
  {
   "cell_type": "code",
   "execution_count": 18,
   "id": "c01e9d7d",
   "metadata": {},
   "outputs": [
    {
     "data": {
      "text/plain": [
       "12"
      ]
     },
     "execution_count": 18,
     "metadata": {},
     "output_type": "execute_result"
    }
   ],
   "source": [
    "arr_2d.size # property outputs the total number of elements in the array"
   ]
  },
  {
   "cell_type": "code",
   "execution_count": 19,
   "id": "7c227fbe",
   "metadata": {},
   "outputs": [
    {
     "data": {
      "text/plain": [
       "array([[[0, 1, 2, 3],\n",
       "        [4, 5, 6, 7]],\n",
       "\n",
       "       [[0, 1, 2, 3],\n",
       "        [4, 5, 6, 7]],\n",
       "\n",
       "       [[0, 1, 2, 3],\n",
       "        [4, 5, 6, 7]]])"
      ]
     },
     "execution_count": 19,
     "metadata": {},
     "output_type": "execute_result"
    }
   ],
   "source": [
    "arr_3d = np.array([[[0, 1, 2, 3],\n",
    "                    [4, 5, 6, 7]],\n",
    "\n",
    "                   [[0, 1, 2, 3],\n",
    "                    [4, 5, 6, 7]],\n",
    "\n",
    "                   [[0, 1, 2, 3],\n",
    "                    [4, 5, 6, 7]]])\n",
    "arr_3d"
   ]
  },
  {
   "cell_type": "code",
   "execution_count": 20,
   "id": "e3062e0c",
   "metadata": {},
   "outputs": [
    {
     "data": {
      "text/plain": [
       "3"
      ]
     },
     "execution_count": 20,
     "metadata": {},
     "output_type": "execute_result"
    }
   ],
   "source": [
    "arr_3d.ndim #  number of dimensions in the array "
   ]
  },
  {
   "cell_type": "code",
   "execution_count": 21,
   "id": "9f28b70f",
   "metadata": {},
   "outputs": [
    {
     "data": {
      "text/plain": [
       "(3, 2, 4)"
      ]
     },
     "execution_count": 21,
     "metadata": {},
     "output_type": "execute_result"
    }
   ],
   "source": [
    "arr_3d.shape # outputs axes, rows, columns"
   ]
  },
  {
   "cell_type": "code",
   "execution_count": 22,
   "id": "083ea6a4",
   "metadata": {},
   "outputs": [
    {
     "data": {
      "text/plain": [
       "24"
      ]
     },
     "execution_count": 22,
     "metadata": {},
     "output_type": "execute_result"
    }
   ],
   "source": [
    "arr_3d.size # outputs the total number of elements in the array"
   ]
  },
  {
   "cell_type": "code",
   "execution_count": 23,
   "id": "3802db9a",
   "metadata": {},
   "outputs": [
    {
     "data": {
      "text/plain": [
       "array([[1, 1],\n",
       "       [2, 2]])"
      ]
     },
     "execution_count": 23,
     "metadata": {},
     "output_type": "execute_result"
    }
   ],
   "source": [
    "arr1 = np.array([[1, 1],\n",
    "                 [2, 2]])\n",
    "arr1"
   ]
  },
  {
   "cell_type": "code",
   "execution_count": 24,
   "id": "566cd95f",
   "metadata": {},
   "outputs": [
    {
     "data": {
      "text/plain": [
       "array([[3, 3],\n",
       "       [4, 4]])"
      ]
     },
     "execution_count": 24,
     "metadata": {},
     "output_type": "execute_result"
    }
   ],
   "source": [
    "arr2 = np.array([[3, 3],\n",
    "                 [4, 4]])\n",
    "arr2"
   ]
  },
  {
   "cell_type": "code",
   "execution_count": 25,
   "id": "03f69c1b",
   "metadata": {},
   "outputs": [
    {
     "data": {
      "text/plain": [
       "array([[1, 1],\n",
       "       [2, 2],\n",
       "       [3, 3],\n",
       "       [4, 4]])"
      ]
     },
     "execution_count": 25,
     "metadata": {},
     "output_type": "execute_result"
    }
   ],
   "source": [
    "vertical = np.vstack((arr1, arr2)) # function to stack the 2 arrays vertically\n",
    "vertical"
   ]
  },
  {
   "cell_type": "code",
   "execution_count": 26,
   "id": "0b5830a8",
   "metadata": {},
   "outputs": [
    {
     "data": {
      "text/plain": [
       "array([[1, 1, 3, 3],\n",
       "       [2, 2, 4, 4]])"
      ]
     },
     "execution_count": 26,
     "metadata": {},
     "output_type": "execute_result"
    }
   ],
   "source": [
    "horizontal = np.hstack((arr1, arr2)) # function to stack the 2 arrays horizontally\n",
    "horizontal"
   ]
  },
  {
   "cell_type": "markdown",
   "id": "c5de1bcb",
   "metadata": {},
   "source": [
    "### Reshape an Array"
   ]
  },
  {
   "cell_type": "code",
   "execution_count": 27,
   "id": "78e8f91b",
   "metadata": {},
   "outputs": [
    {
     "data": {
      "text/plain": [
       "array([0, 1, 2, 3, 4, 5])"
      ]
     },
     "execution_count": 27,
     "metadata": {},
     "output_type": "execute_result"
    }
   ],
   "source": [
    "arr_1d = np.arange(6) # 1 dimensional array\n",
    "arr_1d # also called a vector"
   ]
  },
  {
   "cell_type": "code",
   "execution_count": 28,
   "id": "866f3eac",
   "metadata": {},
   "outputs": [
    {
     "data": {
      "text/plain": [
       "array([[0, 1],\n",
       "       [2, 3],\n",
       "       [4, 5]])"
      ]
     },
     "execution_count": 28,
     "metadata": {},
     "output_type": "execute_result"
    }
   ],
   "source": [
    "arr_3r_2c = arr_1d.reshape(3, 2) # reshape this array to an array with 3 rows and 2 columns\n",
    "arr_3r_2c"
   ]
  },
  {
   "cell_type": "code",
   "execution_count": 29,
   "id": "8e434ba3",
   "metadata": {},
   "outputs": [
    {
     "data": {
      "text/plain": [
       "array([ 1,  2,  3,  4,  5,  6,  7,  8,  9, 10, 11, 12, 13, 14, 15, 16, 17,\n",
       "       18, 19, 20, 21, 22, 23, 24])"
      ]
     },
     "execution_count": 29,
     "metadata": {},
     "output_type": "execute_result"
    }
   ],
   "source": [
    "arr_1 = np.arange(1, 25) # an array of 24 elements\n",
    "arr_1"
   ]
  },
  {
   "cell_type": "code",
   "execution_count": 30,
   "id": "7d12ed98",
   "metadata": {},
   "outputs": [
    {
     "data": {
      "text/plain": [
       "[array([1, 2, 3, 4, 5, 6]),\n",
       " array([ 7,  8,  9, 10, 11, 12]),\n",
       " array([13, 14, 15, 16, 17, 18]),\n",
       " array([19, 20, 21, 22, 23, 24])]"
      ]
     },
     "execution_count": 30,
     "metadata": {},
     "output_type": "execute_result"
    }
   ],
   "source": [
    "np.split(arr_1, 4) # split the array into 4 equal parts"
   ]
  },
  {
   "cell_type": "code",
   "execution_count": 31,
   "id": "857bcb1e",
   "metadata": {},
   "outputs": [
    {
     "data": {
      "text/plain": [
       "array([[ 1,  2,  3,  4,  5,  6,  7,  8,  9, 10, 11, 12],\n",
       "       [13, 14, 15, 16, 17, 18, 19, 20, 21, 22, 23, 24]])"
      ]
     },
     "execution_count": 31,
     "metadata": {},
     "output_type": "execute_result"
    }
   ],
   "source": [
    "arr_2d = np.arange(1, 25).reshape(2, 12) # chaining functions\n",
    "arr_2d"
   ]
  },
  {
   "cell_type": "code",
   "execution_count": 32,
   "id": "20ccf806",
   "metadata": {
    "scrolled": true
   },
   "outputs": [
    {
     "data": {
      "text/plain": [
       "[array([[ 1,  2,  3,  4],\n",
       "        [13, 14, 15, 16]]),\n",
       " array([[ 5,  6,  7,  8],\n",
       "        [17, 18, 19, 20]]),\n",
       " array([[ 9, 10, 11, 12],\n",
       "        [21, 22, 23, 24]])]"
      ]
     },
     "execution_count": 32,
     "metadata": {},
     "output_type": "execute_result"
    }
   ],
   "source": [
    "np.hsplit(arr_2d, 3) # split into 3 smaller arrays"
   ]
  },
  {
   "cell_type": "code",
   "execution_count": 33,
   "id": "005882e2",
   "metadata": {},
   "outputs": [
    {
     "data": {
      "text/plain": [
       "(array([[ 1,  2,  3,  4],\n",
       "        [13, 14, 15, 16]]),\n",
       " array([[ 5,  6,  7,  8],\n",
       "        [17, 18, 19, 20]]),\n",
       " array([[ 9, 10, 11, 12],\n",
       "        [21, 22, 23, 24]]))"
      ]
     },
     "execution_count": 33,
     "metadata": {},
     "output_type": "execute_result"
    }
   ],
   "source": [
    "arr_1, arr_2, arr_3 = np.hsplit(arr_2d, 3) # save the split arrays\n",
    "arr_1, arr_2, arr_3 # created 3 new ndarray array objects"
   ]
  },
  {
   "cell_type": "code",
   "execution_count": 34,
   "id": "b92a9ff7",
   "metadata": {},
   "outputs": [
    {
     "data": {
      "text/plain": [
       "array([[ 1,  2,  3,  4],\n",
       "       [ 5,  6,  7,  8],\n",
       "       [ 9, 10, 11, 12]])"
      ]
     },
     "execution_count": 34,
     "metadata": {},
     "output_type": "execute_result"
    }
   ],
   "source": [
    "arr = np.array([[1 , 2, 3, 4], [5, 6, 7, 8], [9, 10, 11, 12]])\n",
    "arr"
   ]
  },
  {
   "cell_type": "code",
   "execution_count": 35,
   "id": "96513048",
   "metadata": {},
   "outputs": [
    {
     "data": {
      "text/plain": [
       "array([ 1,  2,  3,  4,  5,  6,  7,  8,  9, 10, 11, 12])"
      ]
     },
     "execution_count": 35,
     "metadata": {},
     "output_type": "execute_result"
    }
   ],
   "source": [
    "arr_flat = arr.flatten() # flattens the array into 1-dimension\n",
    "arr_flat # new distinct array object created"
   ]
  },
  {
   "cell_type": "code",
   "execution_count": 36,
   "id": "aca3bea5",
   "metadata": {},
   "outputs": [
    {
     "data": {
      "text/plain": [
       "array([100,   2,   3,   4,   5,   6,   7,   8,   9,  10,  11,  12])"
      ]
     },
     "execution_count": 36,
     "metadata": {},
     "output_type": "execute_result"
    }
   ],
   "source": [
    "arr_flat[0] = 100\n",
    "arr_flat # copied array has been modified"
   ]
  },
  {
   "cell_type": "code",
   "execution_count": 37,
   "id": "a1a4ba22",
   "metadata": {},
   "outputs": [
    {
     "data": {
      "text/plain": [
       "array([[ 1,  2,  3,  4],\n",
       "       [ 5,  6,  7,  8],\n",
       "       [ 9, 10, 11, 12]])"
      ]
     },
     "execution_count": 37,
     "metadata": {},
     "output_type": "execute_result"
    }
   ],
   "source": [
    "arr # Original array is NOT affected!"
   ]
  },
  {
   "cell_type": "code",
   "execution_count": 38,
   "id": "9be25ac5",
   "metadata": {},
   "outputs": [
    {
     "data": {
      "text/plain": [
       "array([ 1,  2,  3,  4,  5,  6,  7,  8,  9, 10, 11, 12])"
      ]
     },
     "execution_count": 38,
     "metadata": {},
     "output_type": "execute_result"
    }
   ],
   "source": [
    "arr_ravel = arr.ravel() # also flattens the array into 1-dimension\n",
    "arr_ravel"
   ]
  },
  {
   "cell_type": "code",
   "execution_count": 39,
   "id": "b8797842",
   "metadata": {},
   "outputs": [
    {
     "data": {
      "text/plain": [
       "array([100,   2,   3,   4,   5,   6,   7,   8,   9,  10,  11,  12])"
      ]
     },
     "execution_count": 39,
     "metadata": {},
     "output_type": "execute_result"
    }
   ],
   "source": [
    "arr_ravel[0] = 100 \n",
    "arr_ravel # copied array has been modified"
   ]
  },
  {
   "cell_type": "code",
   "execution_count": 40,
   "id": "9754aaf6",
   "metadata": {},
   "outputs": [
    {
     "data": {
      "text/plain": [
       "array([[100,   2,   3,   4],\n",
       "       [  5,   6,   7,   8],\n",
       "       [  9,  10,  11,  12]])"
      ]
     },
     "execution_count": 40,
     "metadata": {},
     "output_type": "execute_result"
    }
   ],
   "source": [
    "arr # Original array ALSO got modified! "
   ]
  },
  {
   "cell_type": "code",
   "execution_count": null,
   "id": "546030f7",
   "metadata": {},
   "outputs": [],
   "source": []
  },
  {
   "cell_type": "code",
   "execution_count": null,
   "id": "3d60d881",
   "metadata": {},
   "outputs": [],
   "source": []
  },
  {
   "cell_type": "markdown",
   "id": "a0d5272f",
   "metadata": {},
   "source": [
    "## Indexing and Slicing"
   ]
  },
  {
   "cell_type": "code",
   "execution_count": 41,
   "id": "14ccb696",
   "metadata": {},
   "outputs": [
    {
     "data": {
      "text/plain": [
       "array([10, 20, 30, 40, 50])"
      ]
     },
     "execution_count": 41,
     "metadata": {},
     "output_type": "execute_result"
    }
   ],
   "source": [
    "arr = np.array([10, 20, 30, 40, 50]) # create a one dimensional array with 5 elements\n",
    "arr "
   ]
  },
  {
   "cell_type": "code",
   "execution_count": 42,
   "id": "f486c842",
   "metadata": {},
   "outputs": [
    {
     "data": {
      "text/plain": [
       "10"
      ]
     },
     "execution_count": 42,
     "metadata": {},
     "output_type": "execute_result"
    }
   ],
   "source": [
    "arr[0] # access the 1st element"
   ]
  },
  {
   "cell_type": "code",
   "execution_count": 43,
   "id": "3a510e4a",
   "metadata": {},
   "outputs": [
    {
     "data": {
      "text/plain": [
       "20"
      ]
     },
     "execution_count": 43,
     "metadata": {},
     "output_type": "execute_result"
    }
   ],
   "source": [
    "arr[1] # access the 2nd element"
   ]
  },
  {
   "cell_type": "code",
   "execution_count": 44,
   "id": "8d483e44",
   "metadata": {},
   "outputs": [
    {
     "data": {
      "text/plain": [
       "50"
      ]
     },
     "execution_count": 44,
     "metadata": {},
     "output_type": "execute_result"
    }
   ],
   "source": [
    "arr[4] # access the last element"
   ]
  },
  {
   "cell_type": "code",
   "execution_count": 45,
   "id": "a25142cd",
   "metadata": {},
   "outputs": [
    {
     "data": {
      "text/plain": [
       "50"
      ]
     },
     "execution_count": 45,
     "metadata": {},
     "output_type": "execute_result"
    }
   ],
   "source": [
    "arr[-1] # access the last element"
   ]
  },
  {
   "cell_type": "code",
   "execution_count": 46,
   "id": "69bea4f9",
   "metadata": {},
   "outputs": [
    {
     "data": {
      "text/plain": [
       "40"
      ]
     },
     "execution_count": 46,
     "metadata": {},
     "output_type": "execute_result"
    }
   ],
   "source": [
    "arr[-2] # access the 2nd-last element"
   ]
  },
  {
   "cell_type": "code",
   "execution_count": 47,
   "id": "016eddb5",
   "metadata": {},
   "outputs": [
    {
     "data": {
      "text/plain": [
       "array([ 10,  20,  30, 400,  50])"
      ]
     },
     "execution_count": 47,
     "metadata": {},
     "output_type": "execute_result"
    }
   ],
   "source": [
    "arr[-2] = 400 # update the 2nd-last element \n",
    "arr"
   ]
  },
  {
   "cell_type": "code",
   "execution_count": 48,
   "id": "3072d787",
   "metadata": {},
   "outputs": [
    {
     "data": {
      "text/plain": [
       "array([10, 20])"
      ]
     },
     "execution_count": 48,
     "metadata": {},
     "output_type": "execute_result"
    }
   ],
   "source": [
    "arr[0:2] # access elements from 0th index upto, but not including the 2nd index"
   ]
  },
  {
   "cell_type": "code",
   "execution_count": 49,
   "id": "5828c52e",
   "metadata": {},
   "outputs": [
    {
     "data": {
      "text/plain": [
       "array([10, 20])"
      ]
     },
     "execution_count": 49,
     "metadata": {},
     "output_type": "execute_result"
    }
   ],
   "source": [
    "arr[:2] # access elements from the beginning (0th index) untill the 2nd index"
   ]
  },
  {
   "cell_type": "code",
   "execution_count": 50,
   "id": "88f1a47e",
   "metadata": {},
   "outputs": [
    {
     "data": {
      "text/plain": [
       "array([ 30, 400,  50])"
      ]
     },
     "execution_count": 50,
     "metadata": {},
     "output_type": "execute_result"
    }
   ],
   "source": [
    "arr[2:] # access elements from the second index untill everything "
   ]
  },
  {
   "cell_type": "code",
   "execution_count": 51,
   "id": "97432478",
   "metadata": {},
   "outputs": [
    {
     "data": {
      "text/plain": [
       "array([10, 20, 30])"
      ]
     },
     "execution_count": 51,
     "metadata": {},
     "output_type": "execute_result"
    }
   ],
   "source": [
    "arr[:-2] # access everything untill the 2nd-last element"
   ]
  },
  {
   "cell_type": "code",
   "execution_count": 52,
   "id": "a41c1da0",
   "metadata": {},
   "outputs": [
    {
     "data": {
      "text/plain": [
       "array([ 10,  20,  30, 400])"
      ]
     },
     "execution_count": 52,
     "metadata": {},
     "output_type": "execute_result"
    }
   ],
   "source": [
    "arr[:-1] # access everything untill the last element"
   ]
  },
  {
   "cell_type": "code",
   "execution_count": 53,
   "id": "8932ac3a",
   "metadata": {},
   "outputs": [
    {
     "data": {
      "text/plain": [
       "array([ 30, 400])"
      ]
     },
     "execution_count": 53,
     "metadata": {},
     "output_type": "execute_result"
    }
   ],
   "source": [
    "arr2 = arr[2:4] # arr2 is a slice of arr \n",
    "arr2 # from 2nd index upto but excluding index 4"
   ]
  },
  {
   "cell_type": "code",
   "execution_count": 54,
   "id": "c10ebf1c",
   "metadata": {},
   "outputs": [
    {
     "data": {
      "text/plain": [
       "array([ 10,  20,  30, 400,  50])"
      ]
     },
     "execution_count": 54,
     "metadata": {},
     "output_type": "execute_result"
    }
   ],
   "source": [
    "arr_all = arr[:] # slice the entire array!\n",
    "arr_all # but arr_all is just a VIEW (reference) to arr, not a distinct array object"
   ]
  },
  {
   "cell_type": "code",
   "execution_count": 55,
   "id": "adb05a9f",
   "metadata": {},
   "outputs": [
    {
     "data": {
      "text/plain": [
       "array([1000,   20,   30,  400,   50])"
      ]
     },
     "execution_count": 55,
     "metadata": {},
     "output_type": "execute_result"
    }
   ],
   "source": [
    "arr_all[0] = 1000\n",
    "arr_all # the view got modified"
   ]
  },
  {
   "cell_type": "code",
   "execution_count": 56,
   "id": "e3591ea7",
   "metadata": {},
   "outputs": [
    {
     "data": {
      "text/plain": [
       "array([1000,   20,   30,  400,   50])"
      ]
     },
     "execution_count": 56,
     "metadata": {},
     "output_type": "execute_result"
    }
   ],
   "source": [
    "arr # the original also got modified when view got modified"
   ]
  },
  {
   "cell_type": "code",
   "execution_count": 57,
   "id": "3b0c57df",
   "metadata": {},
   "outputs": [
    {
     "data": {
      "text/plain": [
       "array([[ 10,  20,  30,  40],\n",
       "       [ 50,  60,  70,  80],\n",
       "       [ 90, 100, 110, 120]])"
      ]
     },
     "execution_count": 57,
     "metadata": {},
     "output_type": "execute_result"
    }
   ],
   "source": [
    "score = np.array([[10, 20, 30, 40], [50, 60, 70, 80], [90, 100, 110, 120]])\n",
    "score"
   ]
  },
  {
   "cell_type": "code",
   "execution_count": 58,
   "id": "84944a02",
   "metadata": {},
   "outputs": [
    {
     "data": {
      "text/plain": [
       "10"
      ]
     },
     "execution_count": 58,
     "metadata": {},
     "output_type": "execute_result"
    }
   ],
   "source": [
    "score[0, 0] # access element in 0th row, 0th column"
   ]
  },
  {
   "cell_type": "code",
   "execution_count": 59,
   "id": "8cf1d4b0",
   "metadata": {},
   "outputs": [
    {
     "data": {
      "text/plain": [
       "120"
      ]
     },
     "execution_count": 59,
     "metadata": {},
     "output_type": "execute_result"
    }
   ],
   "source": [
    "# access element in 2nd row, 3rd column\n",
    "score[2, 3] # Remember, index counting begins from 0 !"
   ]
  },
  {
   "cell_type": "code",
   "execution_count": 60,
   "id": "9985f9bc",
   "metadata": {},
   "outputs": [
    {
     "data": {
      "text/plain": [
       "array([50, 60, 70, 80])"
      ]
     },
     "execution_count": 60,
     "metadata": {},
     "output_type": "execute_result"
    }
   ],
   "source": [
    "# access the entire row number 1\n",
    "score[1] # which is after row number 0"
   ]
  },
  {
   "cell_type": "code",
   "execution_count": 61,
   "id": "ef632df0",
   "metadata": {},
   "outputs": [
    {
     "data": {
      "text/plain": [
       "array([ 20,  60, 100])"
      ]
     },
     "execution_count": 61,
     "metadata": {},
     "output_type": "execute_result"
    }
   ],
   "source": [
    "# access the entire column number 1\n",
    "score[:, 1] # which is after column number 0\n"
   ]
  },
  {
   "cell_type": "code",
   "execution_count": 62,
   "id": "cc607c3e",
   "metadata": {},
   "outputs": [
    {
     "data": {
      "text/plain": [
       "array([[ True,  True,  True,  True],\n",
       "       [ True,  True,  True,  True],\n",
       "       [ True, False, False, False]])"
      ]
     },
     "execution_count": 62,
     "metadata": {},
     "output_type": "execute_result"
    }
   ],
   "source": [
    "score < 100 # outputs boolean array of comapring each element with 100"
   ]
  },
  {
   "cell_type": "code",
   "execution_count": 63,
   "id": "d4804d10",
   "metadata": {},
   "outputs": [
    {
     "data": {
      "text/plain": [
       "array([10, 20, 30, 40, 50, 60, 70, 80, 90])"
      ]
     },
     "execution_count": 63,
     "metadata": {},
     "output_type": "execute_result"
    }
   ],
   "source": [
    "score[score < 100] # access only those array elements for which the array index is true "
   ]
  },
  {
   "cell_type": "code",
   "execution_count": 64,
   "id": "c9088868",
   "metadata": {},
   "outputs": [
    {
     "data": {
      "text/plain": [
       "array([[False,  True,  True,  True],\n",
       "       [ True,  True,  True,  True],\n",
       "       [ True,  True, False, False]])"
      ]
     },
     "execution_count": 64,
     "metadata": {},
     "output_type": "execute_result"
    }
   ],
   "source": [
    "indices_from_20_to_110 = (score >= 20) & (score < 110)\n",
    "indices_from_20_to_110"
   ]
  },
  {
   "cell_type": "code",
   "execution_count": 65,
   "id": "f662f8c0",
   "metadata": {},
   "outputs": [
    {
     "data": {
      "text/plain": [
       "array([ 20,  30,  40,  50,  60,  70,  80,  90, 100])"
      ]
     },
     "execution_count": 65,
     "metadata": {},
     "output_type": "execute_result"
    }
   ],
   "source": [
    "score[indices_from_20_to_110] # access elements only when orresponding index value is True "
   ]
  },
  {
   "cell_type": "code",
   "execution_count": 66,
   "id": "f06ee7ff",
   "metadata": {},
   "outputs": [
    {
     "data": {
      "text/plain": [
       "(array([0, 0, 0, 1, 1, 1, 1, 2, 2], dtype=int64),\n",
       " array([1, 2, 3, 0, 1, 2, 3, 0, 1], dtype=int64))"
      ]
     },
     "execution_count": 66,
     "metadata": {},
     "output_type": "execute_result"
    }
   ],
   "source": [
    "np.nonzero((score >= 20) & (score < 110)) # outputs indices of elements that satisfy the condition\n",
    "# outputs a tuple of 2 arrays, one for rows and one for columns"
   ]
  },
  {
   "cell_type": "code",
   "execution_count": 67,
   "id": "b311c649",
   "metadata": {},
   "outputs": [
    {
     "data": {
      "text/plain": [
       "array([ 20,  30,  40,  50,  60,  70,  80,  90, 100])"
      ]
     },
     "execution_count": 67,
     "metadata": {},
     "output_type": "execute_result"
    }
   ],
   "source": [
    "score[np.nonzero((score >= 20) & (score < 110))]"
   ]
  },
  {
   "cell_type": "code",
   "execution_count": 68,
   "id": "838b9e87",
   "metadata": {},
   "outputs": [
    {
     "data": {
      "text/plain": [
       "(array([], dtype=int64), array([], dtype=int64))"
      ]
     },
     "execution_count": 68,
     "metadata": {},
     "output_type": "execute_result"
    }
   ],
   "source": [
    "no_element = np.nonzero(score > 1000) \n",
    "no_element # null array"
   ]
  },
  {
   "cell_type": "code",
   "execution_count": 69,
   "id": "99e506a5",
   "metadata": {},
   "outputs": [
    {
     "data": {
      "text/plain": [
       "array([], dtype=int32)"
      ]
     },
     "execution_count": 69,
     "metadata": {},
     "output_type": "execute_result"
    }
   ],
   "source": [
    "score[no_element] # null array"
   ]
  },
  {
   "cell_type": "code",
   "execution_count": 70,
   "id": "8d264d90",
   "metadata": {
    "scrolled": true
   },
   "outputs": [
    {
     "data": {
      "text/plain": [
       "array([[ 35,  35,  35,  40],\n",
       "       [ 50,  60,  70,  80],\n",
       "       [ 90, 100, 110, 120]])"
      ]
     },
     "execution_count": 70,
     "metadata": {},
     "output_type": "execute_result"
    }
   ],
   "source": [
    "score[score <= 30] = 35 # assign 35 to elements < 30\n",
    "score"
   ]
  },
  {
   "cell_type": "code",
   "execution_count": 71,
   "id": "584a125a",
   "metadata": {},
   "outputs": [
    {
     "data": {
      "text/plain": [
       "array([[ 35,  35,  35,  40],\n",
       "       [ 50,  60,  70,  80],\n",
       "       [ 90, 100, 100, 100]])"
      ]
     },
     "execution_count": 71,
     "metadata": {},
     "output_type": "execute_result"
    }
   ],
   "source": [
    "score[score > 100] = 100 # assign 100 to elements > 100\n",
    "score"
   ]
  },
  {
   "cell_type": "markdown",
   "id": "3587f16e",
   "metadata": {},
   "source": [
    "## Numpy Matrices and Random Numbers"
   ]
  },
  {
   "cell_type": "markdown",
   "id": "c45f3d5c",
   "metadata": {},
   "source": [
    "## Matrices"
   ]
  },
  {
   "cell_type": "code",
   "execution_count": 72,
   "id": "c25dd871",
   "metadata": {},
   "outputs": [
    {
     "data": {
      "text/plain": [
       "array([[10, 20, 30],\n",
       "       [40, 50, 60],\n",
       "       [70, 80, 90]])"
      ]
     },
     "execution_count": 72,
     "metadata": {},
     "output_type": "execute_result"
    }
   ],
   "source": [
    "# 2-Dimensional arrays represent matrices\n",
    "prices = np.array([[10, 20, 30], [40, 50, 60], [70, 80, 90]])\n",
    "prices"
   ]
  },
  {
   "cell_type": "code",
   "execution_count": 73,
   "id": "9c2e9a55",
   "metadata": {},
   "outputs": [
    {
     "data": {
      "text/plain": [
       "20"
      ]
     },
     "execution_count": 73,
     "metadata": {},
     "output_type": "execute_result"
    }
   ],
   "source": [
    "prices[0, 1] # access 0th row 1th item"
   ]
  },
  {
   "cell_type": "code",
   "execution_count": 74,
   "id": "48da2f31",
   "metadata": {},
   "outputs": [
    {
     "data": {
      "text/plain": [
       "array([[40, 50, 60],\n",
       "       [70, 80, 90]])"
      ]
     },
     "execution_count": 74,
     "metadata": {},
     "output_type": "execute_result"
    }
   ],
   "source": [
    "prices[1:3] # access rows from index 1 to 3 (excluded)"
   ]
  },
  {
   "cell_type": "code",
   "execution_count": 75,
   "id": "264d3c25",
   "metadata": {},
   "outputs": [
    {
     "data": {
      "text/plain": [
       "array([[10, 20],\n",
       "       [40, 50],\n",
       "       [70, 80]])"
      ]
     },
     "execution_count": 75,
     "metadata": {},
     "output_type": "execute_result"
    }
   ],
   "source": [
    "# access rows from index 0 to 3 (excluded) and columns 0 to 2 (excluded)\n",
    "prices[0:3, 0:2] "
   ]
  },
  {
   "cell_type": "code",
   "execution_count": 76,
   "id": "7daaa773",
   "metadata": {},
   "outputs": [
    {
     "data": {
      "text/plain": [
       "90"
      ]
     },
     "execution_count": 76,
     "metadata": {},
     "output_type": "execute_result"
    }
   ],
   "source": [
    "prices.max() # output the maximum number in the matrix"
   ]
  },
  {
   "cell_type": "code",
   "execution_count": 77,
   "id": "59b6fff9",
   "metadata": {
    "scrolled": true
   },
   "outputs": [
    {
     "data": {
      "text/plain": [
       "array([70, 80, 90])"
      ]
     },
     "execution_count": 77,
     "metadata": {},
     "output_type": "execute_result"
    }
   ],
   "source": [
    "prices.max(axis=0) # output the maximum numbers, row-wise in each column"
   ]
  },
  {
   "cell_type": "code",
   "execution_count": 78,
   "id": "a010dfca",
   "metadata": {},
   "outputs": [
    {
     "data": {
      "text/plain": [
       "array([10, 40, 70])"
      ]
     },
     "execution_count": 78,
     "metadata": {},
     "output_type": "execute_result"
    }
   ],
   "source": [
    "prices.min(axis=1) # output the minimum numbers, column-wise in each row"
   ]
  },
  {
   "cell_type": "code",
   "execution_count": 79,
   "id": "d86c65c9",
   "metadata": {},
   "outputs": [
    {
     "data": {
      "text/plain": [
       "10"
      ]
     },
     "execution_count": 79,
     "metadata": {},
     "output_type": "execute_result"
    }
   ],
   "source": [
    "prices.min() # output the minimum number in the matrix"
   ]
  },
  {
   "cell_type": "code",
   "execution_count": 80,
   "id": "2280efc3",
   "metadata": {},
   "outputs": [
    {
     "data": {
      "text/plain": [
       "450"
      ]
     },
     "execution_count": 80,
     "metadata": {},
     "output_type": "execute_result"
    }
   ],
   "source": [
    "prices.sum()# output the sum of all numbers in the matrix"
   ]
  },
  {
   "cell_type": "code",
   "execution_count": 81,
   "id": "ce6d21fd",
   "metadata": {},
   "outputs": [
    {
     "data": {
      "text/plain": [
       "array([[11., 22., 33.],\n",
       "       [44., 55., 66.],\n",
       "       [77., 88., 99.]])"
      ]
     },
     "execution_count": 81,
     "metadata": {},
     "output_type": "execute_result"
    }
   ],
   "source": [
    "# increase prices by 10%\n",
    "prices = prices + (prices * 0.1) # broadcasting operation\n",
    "prices"
   ]
  },
  {
   "cell_type": "code",
   "execution_count": 82,
   "id": "29784bf4",
   "metadata": {
    "scrolled": true
   },
   "outputs": [
    {
     "data": {
      "text/plain": [
       "(array([[11., 22., 33.],\n",
       "        [44., 55., 66.],\n",
       "        [77., 88., 99.]]),\n",
       " array([[1, 2, 3],\n",
       "        [4, 5, 6],\n",
       "        [7, 8, 9]]))"
      ]
     },
     "execution_count": 82,
     "metadata": {},
     "output_type": "execute_result"
    }
   ],
   "source": [
    "qtys = np.array([[1, 2, 3], [4, 5, 6], [7, 8, 9]])\n",
    "prices, qtys # show the prices and their corresponding quantities"
   ]
  },
  {
   "cell_type": "code",
   "execution_count": 83,
   "id": "1a2d8679",
   "metadata": {},
   "outputs": [
    {
     "data": {
      "text/plain": [
       "array([[ 11.,  44.,  99.],\n",
       "       [176., 275., 396.],\n",
       "       [539., 704., 891.]])"
      ]
     },
     "execution_count": 83,
     "metadata": {},
     "output_type": "execute_result"
    }
   ],
   "source": [
    "costs = prices * qtys\n",
    "costs"
   ]
  },
  {
   "cell_type": "code",
   "execution_count": 84,
   "id": "aa889bca",
   "metadata": {},
   "outputs": [
    {
     "data": {
      "text/plain": [
       "(array([[ 11.,  44.,  99.],\n",
       "        [176., 275., 396.],\n",
       "        [539., 704., 891.]]),\n",
       " [5, 7.5, 10])"
      ]
     },
     "execution_count": 84,
     "metadata": {},
     "output_type": "execute_result"
    }
   ],
   "source": [
    "tax_rate = [5, 7.5, 10] # tax rate increases column-wise\n",
    "costs, tax_rate"
   ]
  },
  {
   "cell_type": "code",
   "execution_count": 85,
   "id": "d25c7299",
   "metadata": {},
   "outputs": [
    {
     "data": {
      "text/plain": [
       "array([[  55. ,  330. ,  990. ],\n",
       "       [ 880. , 2062.5, 3960. ],\n",
       "       [2695. , 5280. , 8910. ]])"
      ]
     },
     "execution_count": 85,
     "metadata": {},
     "output_type": "execute_result"
    }
   ],
   "source": [
    "subtotal = costs * tax_rate # broadcasting because 2nd matrix has a lower dimension\n",
    "subtotal"
   ]
  },
  {
   "cell_type": "code",
   "execution_count": 86,
   "id": "ae0e694e",
   "metadata": {},
   "outputs": [
    {
     "data": {
      "text/plain": [
       "(array([[ 11.,  44.,  99.],\n",
       "        [176., 275., 396.],\n",
       "        [539., 704., 891.]]),\n",
       " array([[1., 1., 1.],\n",
       "        [1., 1., 1.],\n",
       "        [1., 1., 1.]]))"
      ]
     },
     "execution_count": 86,
     "metadata": {},
     "output_type": "execute_result"
    }
   ],
   "source": [
    "surcharge = np.ones((3,3)) # a $1 surcharge needs to be put on each item\n",
    "costs, surcharge"
   ]
  },
  {
   "cell_type": "code",
   "execution_count": 87,
   "id": "23b2c8a1",
   "metadata": {},
   "outputs": [
    {
     "data": {
      "text/plain": [
       "array([[ 12.,  45., 100.],\n",
       "       [177., 276., 397.],\n",
       "       [540., 705., 892.]])"
      ]
     },
     "execution_count": 87,
     "metadata": {},
     "output_type": "execute_result"
    }
   ],
   "source": [
    "total = costs + surcharge\n",
    "total"
   ]
  },
  {
   "cell_type": "code",
   "execution_count": 88,
   "id": "1dc6757c",
   "metadata": {},
   "outputs": [
    {
     "data": {
      "text/plain": [
       "array([[ 12., 177., 540.],\n",
       "       [ 45., 276., 705.],\n",
       "       [100., 397., 892.]])"
      ]
     },
     "execution_count": 88,
     "metadata": {},
     "output_type": "execute_result"
    }
   ],
   "source": [
    "# swap rows and columns\n",
    "total.transpose()"
   ]
  },
  {
   "cell_type": "code",
   "execution_count": 89,
   "id": "747359f8",
   "metadata": {},
   "outputs": [
    {
     "data": {
      "text/plain": [
       "array([[ 12.,  45., 100.],\n",
       "       [177., 276., 397.],\n",
       "       [540., 705., 892.]])"
      ]
     },
     "execution_count": 89,
     "metadata": {},
     "output_type": "execute_result"
    }
   ],
   "source": [
    "# Original matrix is unchanged because the transposed matrix was not assigned back to it\n",
    "total"
   ]
  },
  {
   "cell_type": "code",
   "execution_count": null,
   "id": "ebe7e3b4",
   "metadata": {},
   "outputs": [],
   "source": []
  },
  {
   "cell_type": "markdown",
   "id": "73edb298",
   "metadata": {},
   "source": [
    "### Random Numbers"
   ]
  },
  {
   "cell_type": "code",
   "execution_count": 90,
   "id": "5f7a3d2f",
   "metadata": {},
   "outputs": [],
   "source": [
    "rng = np.random.default_rng(seed=12345) # instantiate a generator object\n",
    "# The seed parameter ensures that all runs generate the same sequence of 'random' number.\n",
    "# just so that you and I get the same results!"
   ]
  },
  {
   "cell_type": "code",
   "execution_count": 91,
   "id": "55e491cd",
   "metadata": {},
   "outputs": [
    {
     "data": {
      "text/plain": [
       "0.22733602246716966"
      ]
     },
     "execution_count": 91,
     "metadata": {},
     "output_type": "execute_result"
    }
   ],
   "source": [
    "# generate a random float number from 0 to 1 (excluded)\n",
    "rfloat = rng.random() \n",
    "rfloat"
   ]
  },
  {
   "cell_type": "code",
   "execution_count": 92,
   "id": "9bbc6bb4",
   "metadata": {},
   "outputs": [
    {
     "data": {
      "text/plain": [
       "array([0.31675834, 0.79736546, 0.67625467, 0.39110955, 0.33281393,\n",
       "       0.59830875, 0.18673419, 0.67275604, 0.94180287, 0.24824571])"
      ]
     },
     "execution_count": 92,
     "metadata": {},
     "output_type": "execute_result"
    }
   ],
   "source": [
    "# generate 10 random float number from 0 to 1 (excluded)\n",
    "rfloats = rng.random(10)\n",
    "rfloats"
   ]
  },
  {
   "cell_type": "code",
   "execution_count": 93,
   "id": "33c3dfca",
   "metadata": {},
   "outputs": [
    {
     "data": {
      "text/plain": [
       "array([[0.94888115, 0.66723745, 0.09589794, 0.44183967],\n",
       "       [0.88647992, 0.6974535 , 0.32647286, 0.73392816],\n",
       "       [0.22013496, 0.08159457, 0.1598956 , 0.34010018],\n",
       "       [0.46519315, 0.26642103, 0.8157764 , 0.19329439],\n",
       "       [0.12946908, 0.09166475, 0.59856801, 0.8547419 ],\n",
       "       [0.60162124, 0.93198836, 0.72478136, 0.86055132]])"
      ]
     },
     "execution_count": 93,
     "metadata": {},
     "output_type": "execute_result"
    }
   ],
   "source": [
    "## generate a 6 x 4 array of random float number from 0 to 1 (excluded)\n",
    "arr_rfloats = rng.random((6, 4)) \n",
    "arr_rfloats"
   ]
  },
  {
   "cell_type": "code",
   "execution_count": 94,
   "id": "cbee52b7",
   "metadata": {},
   "outputs": [
    {
     "data": {
      "text/plain": [
       "7"
      ]
     },
     "execution_count": 94,
     "metadata": {},
     "output_type": "execute_result"
    }
   ],
   "source": [
    "# generate a random integer from 0 to 11 (excluded)\n",
    "rint_1 = rng.integers(11)\n",
    "rint_1"
   ]
  },
  {
   "cell_type": "code",
   "execution_count": 95,
   "id": "03552c9b",
   "metadata": {},
   "outputs": [
    {
     "data": {
      "text/plain": [
       "array([9, 5, 5], dtype=int64)"
      ]
     },
     "execution_count": 95,
     "metadata": {},
     "output_type": "execute_result"
    }
   ],
   "source": [
    "# generate an array of 3 random integer from 0 to 11 (excluded)\n",
    "arr_rint = rng.integers((10, 10, 10))\n",
    "arr_rint"
   ]
  },
  {
   "cell_type": "code",
   "execution_count": 96,
   "id": "5164287a",
   "metadata": {},
   "outputs": [
    {
     "data": {
      "text/plain": [
       "array([ 0.32203712,  0.12787539,  0.92797619,  0.13504835, -0.35542284,\n",
       "       -0.19499197,  2.1318192 , -0.19175366, -1.88313283,  2.25743463,\n",
       "       -0.44594564,  0.30301994, -1.78469832,  1.62095819, -0.2420392 ,\n",
       "        0.83246679,  0.8286982 , -1.19356758,  0.36446149, -1.84975048,\n",
       "       -0.22646506,  1.5093888 ,  0.10783923,  0.83504054,  0.06753037,\n",
       "       -0.63721291, -2.66806847,  1.22626399, -0.06908429, -0.42106928,\n",
       "       -0.23925338,  2.72120836,  0.03853319,  0.61983148, -0.80706722,\n",
       "       -0.69858793,  1.3526976 ,  0.95036199, -0.83253665, -0.01340567,\n",
       "       -0.16655133, -0.17294532, -0.25295933,  0.07115742,  0.75674398,\n",
       "       -1.16799648,  0.5148382 ,  0.90830037, -1.19048734,  0.60069884,\n",
       "       -0.24291836,  0.13208264, -1.20831494, -1.53664957,  0.21183008,\n",
       "       -0.6385437 ,  0.70662819, -1.84309723, -1.36981526,  0.16372764,\n",
       "       -0.8874028 ,  0.19970792, -0.57124802, -1.09085728,  0.94054586,\n",
       "       -0.63470137, -0.99546575,  0.47599715, -0.79761304,  1.56418084,\n",
       "        0.39227177, -2.14727475,  0.69594987,  0.65587424, -0.22117532,\n",
       "       -0.49184754,  1.87805942, -0.76319116,  1.01163638, -1.74269047,\n",
       "        0.40522418,  0.36753881,  0.75545712,  0.81319241, -1.93192828,\n",
       "        0.92515168,  0.26153191, -1.57276585,  1.80989243, -0.29291614,\n",
       "        0.00356931,  0.44367434,  0.27603185,  0.96812459, -0.41095692,\n",
       "        1.5338505 ,  1.49522458,  0.35555819,  0.85930335, -0.70437089])"
      ]
     },
     "execution_count": 96,
     "metadata": {},
     "output_type": "execute_result"
    }
   ],
   "source": [
    "# sample 100 floats normally distributed around 0 with standard deviation of 1\n",
    "np.random.normal(0, 1, 100) # Values for the bell curve"
   ]
  },
  {
   "cell_type": "code",
   "execution_count": 97,
   "id": "ad62a9bb",
   "metadata": {},
   "outputs": [
    {
     "data": {
      "text/plain": [
       "array([ 3, 10,  6,  5,  4,  3,  7,  5,  6,  7,  9,  4,  7, 10,  5,  3,  3,\n",
       "        4,  7,  3,  9,  4,  1,  1,  1,  7,  4,  3,  7,  1,  6,  7,  1,  2,\n",
       "        4,  4, 10,  5,  7,  2,  9,  3,  8,  5,  5,  5,  6,  3,  2,  3],\n",
       "      dtype=int64)"
      ]
     },
     "execution_count": 97,
     "metadata": {},
     "output_type": "execute_result"
    }
   ],
   "source": [
    "# generate 50 random integers from 1 to 11 (excluded)\n",
    "rints = rng.integers(low=1, high=11, size=50) \n",
    "rints"
   ]
  },
  {
   "cell_type": "code",
   "execution_count": 98,
   "id": "6fa94205",
   "metadata": {},
   "outputs": [
    {
     "data": {
      "text/plain": [
       "array([11,  4,  8,  3, 10,  6,  7,  3,  7,  6,  8,  3,  7, 10,  6,  2,  1,\n",
       "       10,  6,  2,  4,  9,  5,  7,  9,  3, 10,  9,  4,  3,  4,  1,  5,  7,\n",
       "        9,  6,  2,  7,  2,  2, 11,  3,  7,  8, 10,  1, 10, 10,  8,  5],\n",
       "      dtype=int64)"
      ]
     },
     "execution_count": 98,
     "metadata": {},
     "output_type": "execute_result"
    }
   ],
   "source": [
    "# generate 50 random integers from 1 to 10 (included)\n",
    "rints = rng.integers(low=1, high=11, endpoint=True, size=50) \n",
    "rints"
   ]
  },
  {
   "cell_type": "code",
   "execution_count": 99,
   "id": "546478d1",
   "metadata": {},
   "outputs": [
    {
     "data": {
      "text/plain": [
       "array([[2, 6, 7],\n",
       "       [3, 7, 1]], dtype=int64)"
      ]
     },
     "execution_count": 99,
     "metadata": {},
     "output_type": "execute_result"
    }
   ],
   "source": [
    "# generate a 2 x 3 matrix of random integers between 0 and 10\n",
    "rint_arr = rng.integers(11, size=(2, 3))\n",
    "rint_arr"
   ]
  },
  {
   "cell_type": "code",
   "execution_count": 100,
   "id": "7b543058",
   "metadata": {
    "scrolled": true
   },
   "outputs": [
    {
     "data": {
      "text/plain": [
       "array([[0.00971213, 0.21004296],\n",
       "       [0.87000068, 0.9728298 ],\n",
       "       [0.44179234, 0.37874949]])"
      ]
     },
     "execution_count": 100,
     "metadata": {},
     "output_type": "execute_result"
    }
   ],
   "source": [
    "# generate a 3 x 2 matrix of random floats between 0 and 1 (excluded)\n",
    "rfloat_arr = rng.random((3,2))\n",
    "rfloat_arr"
   ]
  },
  {
   "cell_type": "markdown",
   "id": "29e16b64",
   "metadata": {},
   "source": [
    "## Numpy Array Functions"
   ]
  },
  {
   "cell_type": "code",
   "execution_count": 101,
   "id": "7ad05608",
   "metadata": {},
   "outputs": [],
   "source": [
    "arr_1 = np.array([20, 10, 50, 100, 30, 90, 70, 40, 60, 80]) # array of multiples of 10 upto 100"
   ]
  },
  {
   "cell_type": "code",
   "execution_count": 102,
   "id": "b1fd0d1c",
   "metadata": {},
   "outputs": [
    {
     "data": {
      "text/plain": [
       "array([ 10,  20,  30,  40,  50,  60,  70,  80,  90, 100])"
      ]
     },
     "execution_count": 102,
     "metadata": {},
     "output_type": "execute_result"
    }
   ],
   "source": [
    "np.sort(arr_1) # output is sorted in ascending order"
   ]
  },
  {
   "cell_type": "code",
   "execution_count": 103,
   "id": "f83d8290",
   "metadata": {},
   "outputs": [
    {
     "data": {
      "text/plain": [
       "array([ 20,  10,  50, 100,  30,  90,  70,  40,  60,  80])"
      ]
     },
     "execution_count": 103,
     "metadata": {},
     "output_type": "execute_result"
    }
   ],
   "source": [
    "arr_1 # however, original array is NOT sorted"
   ]
  },
  {
   "cell_type": "code",
   "execution_count": 104,
   "id": "7bdd0368",
   "metadata": {},
   "outputs": [
    {
     "data": {
      "text/plain": [
       "array([ 10,  20,  30,  40,  50,  60,  70,  80,  90, 100])"
      ]
     },
     "execution_count": 104,
     "metadata": {},
     "output_type": "execute_result"
    }
   ],
   "source": [
    "arr_1.sort() # call the ndarray's built-in sort function\n",
    "arr_1 # now, the array is sorted internally!"
   ]
  },
  {
   "cell_type": "code",
   "execution_count": 105,
   "id": "bb74d4e3",
   "metadata": {},
   "outputs": [
    {
     "data": {
      "text/plain": [
       "array([110, 120, 130, 140, 150, 160, 170, 180, 190, 200])"
      ]
     },
     "execution_count": 105,
     "metadata": {},
     "output_type": "execute_result"
    }
   ],
   "source": [
    "arr_2 = np.arange(110, 210, 10) # array of multiples of 10 from 110 upto 200\n",
    "arr_2"
   ]
  },
  {
   "cell_type": "code",
   "execution_count": 106,
   "id": "94092527",
   "metadata": {},
   "outputs": [
    {
     "data": {
      "text/plain": [
       "array([ 10,  20,  30,  40,  50,  60,  70,  80,  90, 100, 110, 120, 130,\n",
       "       140, 150, 160, 170, 180, 190, 200])"
      ]
     },
     "execution_count": 106,
     "metadata": {},
     "output_type": "execute_result"
    }
   ],
   "source": [
    "np.concatenate((arr_1, arr_2))"
   ]
  },
  {
   "cell_type": "code",
   "execution_count": 107,
   "id": "c7776ce5",
   "metadata": {},
   "outputs": [
    {
     "data": {
      "text/plain": [
       "(array([[1, 2],\n",
       "        [3, 4]]),\n",
       " array([[5, 6]]))"
      ]
     },
     "execution_count": 107,
     "metadata": {},
     "output_type": "execute_result"
    }
   ],
   "source": [
    "arr_1 = np.array([[1, 2], [3, 4]]) # a 2-Dimensional array with 2 rows\n",
    "arr_2 = np.array([[5, 6]]) # another 2-Dimensional array with one row\n",
    "arr_1, arr_2"
   ]
  },
  {
   "cell_type": "code",
   "execution_count": 108,
   "id": "de76c658",
   "metadata": {},
   "outputs": [
    {
     "data": {
      "text/plain": [
       "array([[1, 2],\n",
       "       [3, 4],\n",
       "       [5, 6]])"
      ]
     },
     "execution_count": 108,
     "metadata": {},
     "output_type": "execute_result"
    }
   ],
   "source": [
    "np.concatenate((arr_1, arr_2), axis=0) # concatenate going from top to bottom"
   ]
  },
  {
   "cell_type": "code",
   "execution_count": 109,
   "id": "c7429fdd",
   "metadata": {},
   "outputs": [
    {
     "data": {
      "text/plain": [
       "(array([[1, 2],\n",
       "        [3, 4]]),\n",
       " array([[ 7,  8],\n",
       "        [ 9, 10]]))"
      ]
     },
     "execution_count": 109,
     "metadata": {},
     "output_type": "execute_result"
    }
   ],
   "source": [
    "arr_3 = np.array([[7, 8], [9, 10]]) # another 2-Dimensional array with 2 rows\n",
    "arr_1, arr_3 # the 2 arrays with "
   ]
  },
  {
   "cell_type": "code",
   "execution_count": 110,
   "id": "c22ccb0e",
   "metadata": {
    "scrolled": true
   },
   "outputs": [
    {
     "data": {
      "text/plain": [
       "array([[ 1,  2,  7,  8],\n",
       "       [ 3,  4,  9, 10]])"
      ]
     },
     "execution_count": 110,
     "metadata": {},
     "output_type": "execute_result"
    }
   ],
   "source": [
    "np.concatenate((arr_1, arr_3), axis=1) # concatenate going from left to right"
   ]
  },
  {
   "cell_type": "code",
   "execution_count": 111,
   "id": "45720a5e",
   "metadata": {},
   "outputs": [
    {
     "data": {
      "text/plain": [
       "array([ 1,  2,  3,  4,  5,  6,  7,  8,  9, 10])"
      ]
     },
     "execution_count": 111,
     "metadata": {},
     "output_type": "execute_result"
    }
   ],
   "source": [
    "np.concatenate((arr_1, arr_2, arr_3), axis=None) # just concatenate, ignring axes"
   ]
  },
  {
   "cell_type": "code",
   "execution_count": 112,
   "id": "552d617a",
   "metadata": {},
   "outputs": [
    {
     "data": {
      "text/plain": [
       "array([0, 1, 2, 3, 4])"
      ]
     },
     "execution_count": 112,
     "metadata": {},
     "output_type": "execute_result"
    }
   ],
   "source": [
    "arr_1 = np.arange(5) # array of integers from 0 to 5 excluded\n",
    "arr_1"
   ]
  },
  {
   "cell_type": "code",
   "execution_count": 113,
   "id": "ae804d68",
   "metadata": {},
   "outputs": [
    {
     "data": {
      "text/plain": [
       "array([0, 1, 2, 3, 4, 5])"
      ]
     },
     "execution_count": 113,
     "metadata": {},
     "output_type": "execute_result"
    }
   ],
   "source": [
    "np.append(arr_1, 5) # append integer 5"
   ]
  },
  {
   "cell_type": "code",
   "execution_count": 114,
   "id": "fdd7a18e",
   "metadata": {},
   "outputs": [],
   "source": [
    "arr_1 = [1, 2, 4, 5] # an array of a sequence missing a number"
   ]
  },
  {
   "cell_type": "code",
   "execution_count": 115,
   "id": "c1b75477",
   "metadata": {},
   "outputs": [
    {
     "data": {
      "text/plain": [
       "array([1, 2, 3, 4, 5])"
      ]
     },
     "execution_count": 115,
     "metadata": {},
     "output_type": "execute_result"
    }
   ],
   "source": [
    "np.insert(arr_1,2,3)"
   ]
  },
  {
   "cell_type": "code",
   "execution_count": 116,
   "id": "43797c46",
   "metadata": {},
   "outputs": [
    {
     "data": {
      "text/plain": [
       "array([[10, 20, 40],\n",
       "       [10, 20, 40]])"
      ]
     },
     "execution_count": 116,
     "metadata": {},
     "output_type": "execute_result"
    }
   ],
   "source": [
    "arr_1 = np.array([[10,20,40],[10,20,40]]) # a 2-Dimensional array\n",
    "arr_1"
   ]
  },
  {
   "cell_type": "code",
   "execution_count": 117,
   "id": "86a255a9",
   "metadata": {},
   "outputs": [
    {
     "data": {
      "text/plain": [
       "array([[10, 20, 30, 40],\n",
       "       [10, 20, 30, 40]])"
      ]
     },
     "execution_count": 117,
     "metadata": {},
     "output_type": "execute_result"
    }
   ],
   "source": [
    "# insert number 30 at index position 2, going from left to right, multiple times\n",
    "np.insert(arr_1,2,30, axis = 1) "
   ]
  },
  {
   "cell_type": "code",
   "execution_count": 118,
   "id": "e7395681",
   "metadata": {},
   "outputs": [
    {
     "data": {
      "text/plain": [
       "array([[10, 20, 40],\n",
       "       [10, 20, 40]])"
      ]
     },
     "execution_count": 118,
     "metadata": {},
     "output_type": "execute_result"
    }
   ],
   "source": [
    "# arr_1 has not changed since above insert function output was not re-assigned to it\n",
    "arr_1 "
   ]
  },
  {
   "cell_type": "code",
   "execution_count": 119,
   "id": "3d7c102d",
   "metadata": {},
   "outputs": [
    {
     "data": {
      "text/plain": [
       "array([[10, 20, 30, 40],\n",
       "       [10, 20, 30, 40]])"
      ]
     },
     "execution_count": 119,
     "metadata": {},
     "output_type": "execute_result"
    }
   ],
   "source": [
    "arr_1 = np.insert(arr_1,2,30, axis = 1) # assign function output back to array\n",
    "arr_1 # has now changed"
   ]
  },
  {
   "cell_type": "code",
   "execution_count": 120,
   "id": "6baf65fd",
   "metadata": {},
   "outputs": [
    {
     "data": {
      "text/plain": [
       "array([[10, 20, 40],\n",
       "       [10, 20, 40]])"
      ]
     },
     "execution_count": 120,
     "metadata": {},
     "output_type": "execute_result"
    }
   ],
   "source": [
    "arr_1 = np.delete(arr_1, 2, axis=1) # delete going left to right, mutiple times\n",
    "arr_1 # array modified due to above re-assignment"
   ]
  },
  {
   "cell_type": "markdown",
   "id": "1565e8e2",
   "metadata": {},
   "source": [
    "## Numpy Mathematical functions\n",
    "Too many to explain in a short into "
   ]
  },
  {
   "cell_type": "code",
   "execution_count": 121,
   "id": "d97534fb",
   "metadata": {},
   "outputs": [
    {
     "data": {
      "text/plain": [
       "([10, 20, 30, 40], [2, 4, 8, 16])"
      ]
     },
     "execution_count": 121,
     "metadata": {},
     "output_type": "execute_result"
    }
   ],
   "source": [
    "arr_1 = [10, 20, 30, 40]\n",
    "arr_2 = [2, 4, 8, 16]\n",
    "arr_1, arr_2"
   ]
  },
  {
   "cell_type": "code",
   "execution_count": 122,
   "id": "b65adc5c",
   "metadata": {},
   "outputs": [
    {
     "data": {
      "text/plain": [
       "array([12, 24, 38, 56])"
      ]
     },
     "execution_count": 122,
     "metadata": {},
     "output_type": "execute_result"
    }
   ],
   "source": [
    "np.add(arr_1, arr_2) # add corresponding array elements"
   ]
  },
  {
   "cell_type": "code",
   "execution_count": 123,
   "id": "ddefba96",
   "metadata": {},
   "outputs": [
    {
     "data": {
      "text/plain": [
       "array([ 8, 16, 22, 24])"
      ]
     },
     "execution_count": 123,
     "metadata": {},
     "output_type": "execute_result"
    }
   ],
   "source": [
    "np.subtract(arr_1, arr_2) # subtract corresponding array elements"
   ]
  },
  {
   "cell_type": "code",
   "execution_count": 124,
   "id": "b58d6439",
   "metadata": {},
   "outputs": [
    {
     "data": {
      "text/plain": [
       "array([ 20,  80, 240, 640])"
      ]
     },
     "execution_count": 124,
     "metadata": {},
     "output_type": "execute_result"
    }
   ],
   "source": [
    "np.multiply(arr_1, arr_2) # multiply corresponding array elements"
   ]
  },
  {
   "cell_type": "code",
   "execution_count": 125,
   "id": "05c15706",
   "metadata": {},
   "outputs": [
    {
     "data": {
      "text/plain": [
       "array([5.  , 5.  , 3.75, 2.5 ])"
      ]
     },
     "execution_count": 125,
     "metadata": {},
     "output_type": "execute_result"
    }
   ],
   "source": [
    "np.divide(arr_1, arr_2) # divide corresponding array elements"
   ]
  },
  {
   "cell_type": "code",
   "execution_count": 126,
   "id": "c557ec32",
   "metadata": {},
   "outputs": [
    {
     "data": {
      "text/plain": [
       "([10, 20, 30, 40], [2, 4, 8, 16], array([0, 0, 6, 8], dtype=int32))"
      ]
     },
     "execution_count": 126,
     "metadata": {},
     "output_type": "execute_result"
    }
   ],
   "source": [
    "arr_1, arr_2, np.mod(arr_1, arr_2) # output remainders after dividing corresponding array elements"
   ]
  },
  {
   "cell_type": "code",
   "execution_count": 127,
   "id": "b00b02af",
   "metadata": {},
   "outputs": [
    {
     "data": {
      "text/plain": [
       "([10, 20, 30, 40],\n",
       " [2, 4, 8, 16],\n",
       " (array([5, 5, 3, 2], dtype=int32), array([0, 0, 6, 8], dtype=int32)))"
      ]
     },
     "execution_count": 127,
     "metadata": {},
     "output_type": "execute_result"
    }
   ],
   "source": [
    "arr_1, arr_2, np.divmod(arr_1, arr_2) # output arrays of quotients and remainders after division"
   ]
  },
  {
   "cell_type": "code",
   "execution_count": 128,
   "id": "b2812e65",
   "metadata": {},
   "outputs": [
    {
     "data": {
      "text/plain": [
       "16"
      ]
     },
     "execution_count": 128,
     "metadata": {},
     "output_type": "execute_result"
    }
   ],
   "source": [
    "np.power(2, 4) # raises 2 to the power of 4"
   ]
  },
  {
   "cell_type": "code",
   "execution_count": 129,
   "id": "add0b523",
   "metadata": {},
   "outputs": [
    {
     "data": {
      "text/plain": [
       "([10, 20, 30, 40],\n",
       " [2, 4, 8, 16],\n",
       " array([        100,      160000, -1029996288,           0], dtype=int32))"
      ]
     },
     "execution_count": 129,
     "metadata": {},
     "output_type": "execute_result"
    }
   ],
   "source": [
    "arr_1, arr_2, np.power(arr_1, arr_2) # raises to power corresponding array elements"
   ]
  },
  {
   "cell_type": "code",
   "execution_count": 130,
   "id": "9ef73199",
   "metadata": {},
   "outputs": [
    {
     "data": {
      "text/plain": [
       "2.718281828459045"
      ]
     },
     "execution_count": 130,
     "metadata": {},
     "output_type": "execute_result"
    }
   ],
   "source": [
    "np.e # the Euler's number e"
   ]
  },
  {
   "cell_type": "code",
   "execution_count": 131,
   "id": "be4d2d76",
   "metadata": {},
   "outputs": [
    {
     "data": {
      "text/plain": [
       "1.0"
      ]
     },
     "execution_count": 131,
     "metadata": {},
     "output_type": "execute_result"
    }
   ],
   "source": [
    "np.log(np.e) # outputs log of input value to base e"
   ]
  },
  {
   "cell_type": "code",
   "execution_count": 132,
   "id": "57d95710",
   "metadata": {},
   "outputs": [
    {
     "data": {
      "text/plain": [
       "([10, 20, 30, 40], array([2.30258509, 2.99573227, 3.40119738, 3.68887945]))"
      ]
     },
     "execution_count": 132,
     "metadata": {},
     "output_type": "execute_result"
    }
   ],
   "source": [
    "arr_1, np.log(arr_1) # output logs of the array to base e"
   ]
  },
  {
   "cell_type": "code",
   "execution_count": 133,
   "id": "fe38ae76",
   "metadata": {},
   "outputs": [
    {
     "data": {
      "text/plain": [
       "2.718281828459045"
      ]
     },
     "execution_count": 133,
     "metadata": {},
     "output_type": "execute_result"
    }
   ],
   "source": [
    "np.exp(1) # raises e to the input value "
   ]
  },
  {
   "cell_type": "code",
   "execution_count": 134,
   "id": "54f087af",
   "metadata": {},
   "outputs": [
    {
     "data": {
      "text/plain": [
       "([10, 20, 30, 40],\n",
       " 2.718281828459045,\n",
       " array([2.20264658e+04, 4.85165195e+08, 1.06864746e+13, 2.35385267e+17]))"
      ]
     },
     "execution_count": 134,
     "metadata": {},
     "output_type": "execute_result"
    }
   ],
   "source": [
    " arr_1, np.e, np.exp(arr_1) # raise e to the power of each array element"
   ]
  },
  {
   "cell_type": "markdown",
   "id": "a3370128",
   "metadata": {},
   "source": [
    "## Saving and Loading Numpy Objects"
   ]
  },
  {
   "cell_type": "code",
   "execution_count": 135,
   "id": "fdba80a0",
   "metadata": {},
   "outputs": [
    {
     "data": {
      "text/plain": [
       "array([10, 20, 30, 40, 50, 60, 70, 80, 90])"
      ]
     },
     "execution_count": 135,
     "metadata": {},
     "output_type": "execute_result"
    }
   ],
   "source": [
    "arr_tens = np.array([10, 20, 30, 40, 50, 60, 70, 80, 90]) \n",
    "arr_tens"
   ]
  },
  {
   "cell_type": "code",
   "execution_count": 136,
   "id": "12b62528",
   "metadata": {},
   "outputs": [],
   "source": [
    "np.save('data/arr_data.npy', arr_tens) # saves one array to disk as a binary file "
   ]
  },
  {
   "cell_type": "code",
   "execution_count": 137,
   "id": "c1385da7",
   "metadata": {},
   "outputs": [
    {
     "data": {
      "text/plain": [
       "array([10, 20, 30, 40, 50, 60, 70, 80, 90])"
      ]
     },
     "execution_count": 137,
     "metadata": {},
     "output_type": "execute_result"
    }
   ],
   "source": [
    "arr_tens_loaded = np.load('data/arr_data.npy')\n",
    "arr_tens_loaded"
   ]
  },
  {
   "cell_type": "code",
   "execution_count": 138,
   "id": "79634cc6",
   "metadata": {},
   "outputs": [
    {
     "data": {
      "text/plain": [
       "array([100, 200, 300, 400, 500, 600, 700, 800, 900])"
      ]
     },
     "execution_count": 138,
     "metadata": {},
     "output_type": "execute_result"
    }
   ],
   "source": [
    "arr_hundreds = np.array([100, 200, 300, 400, 500, 600, 700, 800, 900])\n",
    "arr_hundreds"
   ]
  },
  {
   "cell_type": "code",
   "execution_count": 139,
   "id": "f33f999e",
   "metadata": {},
   "outputs": [],
   "source": [
    "np.savez('data/arr_many.npz', arr_tens, arr_hundreds) # saves multiple arrays to disk "
   ]
  },
  {
   "cell_type": "code",
   "execution_count": 140,
   "id": "97e19d35",
   "metadata": {},
   "outputs": [],
   "source": [
    "arr_loaded = np.load('data/arr_many.npz') # loads all arrays in the saved file"
   ]
  },
  {
   "cell_type": "code",
   "execution_count": 141,
   "id": "75c11a43",
   "metadata": {},
   "outputs": [
    {
     "data": {
      "text/plain": [
       "['arr_0', 'arr_1']"
      ]
     },
     "execution_count": 141,
     "metadata": {},
     "output_type": "execute_result"
    }
   ],
   "source": [
    "arr_loaded.files # loaded arrays ar given default names"
   ]
  },
  {
   "cell_type": "code",
   "execution_count": 142,
   "id": "69e37741",
   "metadata": {},
   "outputs": [
    {
     "data": {
      "text/plain": [
       "array([10, 20, 30, 40, 50, 60, 70, 80, 90])"
      ]
     },
     "execution_count": 142,
     "metadata": {},
     "output_type": "execute_result"
    }
   ],
   "source": [
    "arr_loaded['arr_0']"
   ]
  },
  {
   "cell_type": "code",
   "execution_count": 143,
   "id": "f50c7768",
   "metadata": {},
   "outputs": [
    {
     "data": {
      "text/plain": [
       "array([100, 200, 300, 400, 500, 600, 700, 800, 900])"
      ]
     },
     "execution_count": 143,
     "metadata": {},
     "output_type": "execute_result"
    }
   ],
   "source": [
    "arr_loaded['arr_1']"
   ]
  },
  {
   "cell_type": "markdown",
   "id": "8305b909",
   "metadata": {},
   "source": [
    "### Save numpy arrays in compressed .npz format to save space"
   ]
  },
  {
   "cell_type": "code",
   "execution_count": 144,
   "id": "5a1a400f",
   "metadata": {},
   "outputs": [],
   "source": [
    "np.savez_compressed('data/arr_many_cmp.npz', arr_t=arr_tens, arr_h=arr_hundreds) # saves multiple arrays in compressed format"
   ]
  },
  {
   "cell_type": "code",
   "execution_count": 145,
   "id": "2cd30ee1",
   "metadata": {},
   "outputs": [
    {
     "name": "stdout",
     "output_type": "stream",
     "text": [
      " Volume in drive C has no label.\n",
      " Volume Serial Number is C4B7-21E0\n",
      "\n",
      " Directory of C:\\Users\\Owner\\OneDrive\\MyWrkDta\\data-analyses\\abd\\project-2\\data\n",
      "\n",
      "02/11/2022  11:00 AM    <DIR>          .\n",
      "02/11/2022  11:00 AM    <DIR>          ..\n",
      "04/28/2022  01:34 PM               164 arr_data.npy\n",
      "04/28/2022  01:32 PM                45 arr_file.csv\n",
      "04/28/2022  01:34 PM               578 arr_many.npz\n",
      "04/28/2022  01:34 PM               439 arr_many_cmp.npz\n",
      "               4 File(s)          1,226 bytes\n",
      "               2 Dir(s)  275,873,067,008 bytes free\n"
     ]
    }
   ],
   "source": [
    "# with bigger arrays, filesize savings will be significant\n",
    "!dir data "
   ]
  },
  {
   "cell_type": "code",
   "execution_count": 146,
   "id": "924a6fc0",
   "metadata": {},
   "outputs": [],
   "source": [
    "arr_cmp_loaded = np.load('data/arr_many_cmp.npz') # loads all arrays in the saved file"
   ]
  },
  {
   "cell_type": "code",
   "execution_count": 147,
   "id": "58f902f7",
   "metadata": {},
   "outputs": [
    {
     "data": {
      "text/plain": [
       "['arr_t', 'arr_h']"
      ]
     },
     "execution_count": 147,
     "metadata": {},
     "output_type": "execute_result"
    }
   ],
   "source": [
    "arr_cmp_loaded.files # loaded arrays ar given default names"
   ]
  },
  {
   "cell_type": "code",
   "execution_count": 148,
   "id": "7c65662f",
   "metadata": {},
   "outputs": [
    {
     "data": {
      "text/plain": [
       "array([10, 20, 30, 40, 50, 60, 70, 80, 90])"
      ]
     },
     "execution_count": 148,
     "metadata": {},
     "output_type": "execute_result"
    }
   ],
   "source": [
    "arr_cmp_loaded['arr_t']"
   ]
  },
  {
   "cell_type": "code",
   "execution_count": 149,
   "id": "37210d98",
   "metadata": {},
   "outputs": [],
   "source": [
    "arr_h2 = arr_cmp_loaded['arr_h'] # assign loaded array to a new array object"
   ]
  },
  {
   "cell_type": "code",
   "execution_count": 150,
   "id": "6b232706",
   "metadata": {},
   "outputs": [
    {
     "data": {
      "text/plain": [
       "True"
      ]
     },
     "execution_count": 150,
     "metadata": {},
     "output_type": "execute_result"
    }
   ],
   "source": [
    "np.array_equal(arr_h2, arr_hundreds) # check if the loaded array is the same"
   ]
  },
  {
   "cell_type": "markdown",
   "id": "ee2bb509",
   "metadata": {},
   "source": [
    "### Save numpy arrays in .csv format for readability\n",
    "But this text formatted file will consume more disk space."
   ]
  },
  {
   "cell_type": "code",
   "execution_count": 151,
   "id": "e3d4a5c4",
   "metadata": {},
   "outputs": [],
   "source": [
    "np.savetxt('data/arr_file.csv', arr_hundreds, fmt='%d') # saves the array to disk in .csv format"
   ]
  },
  {
   "cell_type": "code",
   "execution_count": 152,
   "id": "f4eeeb75",
   "metadata": {},
   "outputs": [
    {
     "name": "stdout",
     "output_type": "stream",
     "text": [
      "100\n",
      "200\n",
      "300\n",
      "400\n",
      "500\n",
      "600\n",
      "700\n",
      "800\n",
      "900\n"
     ]
    }
   ],
   "source": [
    "# content of saved .csv file is readable text\n",
    "!type data\\arr_file.csv "
   ]
  },
  {
   "cell_type": "code",
   "execution_count": 153,
   "id": "3db3e8b4",
   "metadata": {},
   "outputs": [
    {
     "data": {
      "text/plain": [
       "array([100, 200, 300, 400, 500, 600, 700, 800, 900], dtype=int64)"
      ]
     },
     "execution_count": 153,
     "metadata": {},
     "output_type": "execute_result"
    }
   ],
   "source": [
    "arr_txt_h = np.loadtxt('data/arr_file.csv', dtype=np.int64) # load the .csv file into an array object\n",
    "arr_txt_h"
   ]
  },
  {
   "cell_type": "code",
   "execution_count": 154,
   "id": "ad96743c",
   "metadata": {},
   "outputs": [
    {
     "data": {
      "text/plain": [
       "True"
      ]
     },
     "execution_count": 154,
     "metadata": {},
     "output_type": "execute_result"
    }
   ],
   "source": [
    "np.array_equal(arr_txt_h, arr_hundreds) # the re-loaded array is the same as saved!"
   ]
  },
  {
   "cell_type": "markdown",
   "id": "e462f5cd",
   "metadata": {},
   "source": [
    "<h2> Plotting the sine curve </h2>"
   ]
  },
  {
   "cell_type": "code",
   "execution_count": 155,
   "id": "0ead419e",
   "metadata": {},
   "outputs": [
    {
     "data": {
      "image/png": "[encoded data removed]",
      "text/plain": [
       "<Figure size 432x288 with 1 Axes>"
      ]
     },
     "metadata": {
      "needs_background": "light"
     },
     "output_type": "display_data"
    }
   ],
   "source": [
    "import matplotlib.pylab as plt\n",
    "x = np.linspace(-np.pi, np.pi, 201)\n",
    "plt.plot(x, np.sin(x))\n",
    "plt.xlabel('Angle [rad]')\n",
    "plt.ylabel('sin(x)')\n",
    "#plt.axis('tight')\n",
    "plt.show()"
   ]
  },
  {
   "cell_type": "markdown",
   "id": "aac8065b",
   "metadata": {},
   "source": [
    "## Download this Project notebook"
   ]
  },
  {
   "cell_type": "markdown",
   "id": "26fd57ce",
   "metadata": {},
   "source": [
    "Right-click and select 'Save link as' to download <a href=\"numpy-overview.ipynb\">this notebook</a>"
   ]
  },
  {
   "cell_type": "markdown",
   "id": "20d1e2fa",
   "metadata": {},
   "source": [
    "Copyright (c) 2022 Analysis By Doing\n",
    "\n",
    "Permission is hereby granted, free of charge, to any person obtaining a copy\n",
    "of this software and associated documentation files (the \"Software\"), to deal\n",
    "in the Software without restriction, including without limitation the rights\n",
    "to use, copy, modify, merge, publish, distribute, sublicense, and/or sell\n",
    "copies of the Software, and to permit persons to whom the Software is\n",
    "furnished to do so, subject to the following conditions:\n",
    "\n",
    "The above copyright notice and this permission notice shall be included in all\n",
    "copies or substantial portions of the Software.\n",
    "\n",
    "THE SOFTWARE IS PROVIDED \"AS IS\", WITHOUT WARRANTY OF ANY KIND, EXPRESS OR\n",
    "IMPLIED, INCLUDING BUT NOT LIMITED TO THE WARRANTIES OF MERCHANTABILITY,\n",
    "FITNESS FOR A PARTICULAR PURPOSE AND NONINFRINGEMENT. IN NO EVENT SHALL THE\n",
    "AUTHORS OR COPYRIGHT HOLDERS BE LIABLE FOR ANY CLAIM, DAMAGES OR OTHER\n",
    "LIABILITY, WHETHER IN AN ACTION OF CONTRACT, TORT OR OTHERWISE, ARISING FROM,\n",
    "OUT OF OR IN CONNECTION WITH THE SOFTWARE OR THE USE OR OTHER DEALINGS IN THE\n",
    "SOFTWARE."
   ]
  }
 ],
 "metadata": {
  "kernelspec": {
   "display_name": "Python 3",
   "language": "python",
   "name": "python3"
  },
  "language_info": {
   "codemirror_mode": {
    "name": "ipython",
    "version": 3
   },
   "file_extension": ".py",
   "mimetype": "text/x-python",
   "name": "python",
   "nbconvert_exporter": "python",
   "pygments_lexer": "ipython3",
   "version": "3.8.8"
  }
 },
 "nbformat": 4,
 "nbformat_minor": 5
}
